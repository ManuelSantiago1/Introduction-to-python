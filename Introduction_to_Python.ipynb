{
  "nbformat": 4,
  "nbformat_minor": 0,
  "metadata": {
    "colab": {
      "name": "Introduction to Python",
      "provenance": []
    },
    "kernelspec": {
      "name": "python3",
      "display_name": "Python 3"
    },
    "language_info": {
      "name": "python"
    }
  },
  "cells": [
    {
      "cell_type": "markdown",
      "metadata": {
        "id": "xYtSjHgqd1-_"
      },
      "source": [
        "# Python"
      ]
    },
    {
      "cell_type": "markdown",
      "metadata": {
        "id": "yA_cNNrLd77C"
      },
      "source": [
        "![python](https://cosasdedevs.com/media/sections/images/python.png)"
      ]
    },
    {
      "cell_type": "markdown",
      "metadata": {
        "id": "PRsmxK7je3Vz"
      },
      "source": [
        "Python the third most used language in the world. It is defined as a \"versatile, multiplatform and multiparadigm programming language that stands out for its readable and clean code.\" It is an interpreted programming language, whose main philosophy is that it is readable by anyone with basic programming knowledge. In turn, it is used on high-traffic platforms such as Google, YouTube or Facebook. Python attracts for its simplicity and accuracy in syntax."
      ]
    },
    {
      "cell_type": "markdown",
      "metadata": {
        "id": "DF5F0-3Ifn34"
      },
      "source": [
        "## Python origin"
      ]
    },
    {
      "cell_type": "markdown",
      "metadata": {
        "id": "Pqyl_1G1f2Se"
      },
      "source": [
        "Its origin dates back to the late 80s and early 90s. Its implementation began in December 1989 when Guido van Rossum, a worker at the CWI (an official Dutch research center) decided to start the project as a hobby, continuing it to the ABC programming language developed by the team I had been part of at the CWI."
      ]
    },
    {
      "cell_type": "markdown",
      "metadata": {
        "id": "yD-y9NRhf-T8"
      },
      "source": [
        "![creator](https://avatars2.githubusercontent.com/u/2894642?v=3&s=460)"
      ]
    },
    {
      "cell_type": "markdown",
      "metadata": {
        "id": "LJ9hRwcPgMNo"
      },
      "source": [
        "### Versions "
      ]
    },
    {
      "cell_type": "markdown",
      "metadata": {
        "id": "7B1gl8b6gP8l"
      },
      "source": [
        "**Version 1.0**\n",
        "\n",
        "Python is a programming language that Van Rossum began developing while working at CWI. It was this research center that released version 1.2 of Python in 1995. From this point on, already disengaged from CWI, Van Rossum made the code even more accessible and by the year 2000, the core team of Python developers moved to BeOpen.com to form the BeOpen Python Labs team."
      ]
    },
    {
      "cell_type": "markdown",
      "metadata": {
        "id": "rXt1EvW4ghRY"
      },
      "source": [
        "**Version 1.6**\n",
        "\n",
        "It is exactly the same as 1.6, with some bugs fixed and a new GPL-compliant license.\n",
        "It had some problems with its license type until the Free Software Foundation (FSF) managed to change Python to a Free Software license, which would make it compatible with the GPL."
      ]
    },
    {
      "cell_type": "markdown",
      "metadata": {
        "id": "C3k953swgwPG"
      },
      "source": [
        "**Version 2.0**\n",
        "\n",
        "In October 2000 the second version of Python was published. A new version in which the generation of lists was included, one of the most important characteristics of this programming language."
      ]
    },
    {
      "cell_type": "markdown",
      "metadata": {
        "id": "Vxd3pfyOhBfJ"
      },
      "source": [
        "**Verion 2.1**\n",
        "\n",
        "In 2001, the Python Software Foundation was created, which from Python owns all the code, documentation and specifications of the language.\n",
        "\n",
        "In addition to this new feature, this new version of Python also included a new system thanks to which programmers were able to make cyclic references and, in this way, Python could collect garbage within the code."
      ]
    },
    {
      "cell_type": "markdown",
      "metadata": {
        "id": "nHnHO9NqhhKg"
      },
      "source": [
        "**Version 3.0**\n",
        "\n",
        "The last major update in the history of Python occurred in 2008 with the release of version 3.0, which came to solve the main flaws in the design of this programming language.\n",
        "\n",
        "Although Python maintains its philosophy in this latest version, as a programming language it has accumulated new and redundant ways of programming the same element. Hence the need for new versions that eliminate these duplicate constructors."
      ]
    },
    {
      "cell_type": "markdown",
      "metadata": {
        "id": "dqqKCraJiKU_"
      },
      "source": [
        "## Uses"
      ]
    },
    {
      "cell_type": "markdown",
      "metadata": {
        "id": "ylvQ0NW6iT7F"
      },
      "source": [
        "Its main objective is the automation of processes, which will make tasks much simpler. In this sense, Python creates highly readable code, which saves time and resources. One of its strengths is that it \"checks for errors on the fly\" to fix them when they affect memory, which maintains the integrity of the array and avoids complications when writing code."
      ]
    },
    {
      "cell_type": "markdown",
      "metadata": {
        "id": "Xs0wgBGaivvv"
      },
      "source": [
        "**Artifical Intelligence** as it is a \"fast, scalable, robust and open source\" writing language, it enables complex ideas to be captured with a few lines of code, which is not possible with other languages."
      ]
    },
    {
      "cell_type": "markdown",
      "metadata": {
        "id": "TOD05Tm0jCT2"
      },
      "source": [
        "**Big Data:** the use of Python spread in data analysis and information extraction. It has data processing libraries such as Pydoop, Dask and Pyspark, which make managing large volumes of information even easier."
      ]
    },
    {
      "cell_type": "markdown",
      "metadata": {
        "id": "HDQEmhdijFng"
      },
      "source": [
        "**Data Science:** Phyton incorporates numerical engines like Pandas and NumPy, which are widely used by researchers around the world. It also handles tabular, matrix, and statistical data, displayed in popular libraries such as \"Matplotlib\" and \"Seaborn,\" making it easy to create a wide variety of graphs and visuals of all kinds."
      ]
    },
    {
      "cell_type": "markdown",
      "metadata": {
        "id": "dt_EOp8MjMk_"
      },
      "source": [
        "**Test Frameworks:** It is ideal for validating ideas or products, as it has many built-in frameworks that help to debug the code and offer fast execution flows."
      ]
    },
    {
      "cell_type": "markdown",
      "metadata": {
        "id": "tx2WPIvsjSzR"
      },
      "source": [
        "**Web development:** with fewer lines of code, much more efficient back-end of web applications are built."
      ]
    },
    {
      "cell_type": "markdown",
      "metadata": {
        "id": "7eW3KHaqjXil"
      },
      "source": [
        "**Computer Science Education:** Its simple syntax allows students to begin acquiring valuable skills for their careers. In addition, it supports several programming paradigms such as imperative, functional, procedural, and object-oriented."
      ]
    },
    {
      "cell_type": "markdown",
      "metadata": {
        "id": "4RpHBjydjh_k"
      },
      "source": [
        "## Operators, expressions, and statements in Python"
      ]
    },
    {
      "cell_type": "markdown",
      "metadata": {
        "id": "kG09bT4hlwth"
      },
      "source": [
        "**Operator**.- An operator is a character or set of characters that acts on one, two or more variables and / or literals to carry out an operation with a specific result."
      ]
    },
    {
      "cell_type": "markdown",
      "metadata": {
        "id": "3igUcviFnmIR"
      },
      "source": [
        "**Expression**.-\n",
        "An expression is a unit of code that returns a value and is made up of a combination of operands (variables and literals) and operators."
      ]
    },
    {
      "cell_type": "markdown",
      "metadata": {
        "id": "UcwoMBtvndDB"
      },
      "source": [
        "**Statement**.- A statement or statement is an instruction that defines an action. A statement can be made up of one or more expressions, although this is not always the case.\n",
        "The sentences are the instructions that make up our program and determine its behavior."
      ]
    },
    {
      "cell_type": "markdown",
      "metadata": {
        "id": "MUg4Xqzbl36C"
      },
      "source": [
        "![operator](https://i1.wp.com/techvidvan.com/tutorials/wp-content/uploads/sites/2/2019/12/python-arithmetic-operators-1.jpg?w=690&ssl=1)"
      ]
    },
    {
      "cell_type": "markdown",
      "metadata": {
        "id": "SA5exR0CsSFf"
      },
      "source": [
        "### Python print statement"
      ]
    },
    {
      "cell_type": "markdown",
      "metadata": {
        "id": "tbSUA7gIqPy_"
      },
      "source": [
        "| Symbol     | Sense        | Observation   |\n",
        "| :------------ | :-------------: | ---------: |\n",
        "| % s      | What is printed is a rope|Character or string|\n",
        "|  % d |   Print an integer   | digital      | \n",
        "| %f      | What is printed is a floating point number (decimal)    | The default is six digits after the decimal point. |\n",
        "| % .nf  |  Print floating point numbers (specify the number of decimal places to keep)   | n: How many  |\n",
        "|  % n |   Specify the width of the placeholder  |  % 10 ： 10 Placeholders |\n",
        "|   % 0n|  Specify a placeholder (use0As a placeholder)   |  Use spaces for string format and for numeric type0 |\n"
      ]
    },
    {
      "cell_type": "markdown",
      "metadata": {
        "id": "n01bhgtDtjSF"
      },
      "source": [
        "### If-else statement"
      ]
    },
    {
      "cell_type": "markdown",
      "metadata": {
        "id": "2BP6qvDpscly"
      },
      "source": [
        "\n",
        "\n",
        "The if / elif / else structure is a common way to control the flow of a program, allowing you to execute specific blocks of code based on the value of some data.\n",
        "\n"
      ]
    },
    {
      "cell_type": "markdown",
      "metadata": {
        "id": "eNE7jkg1thy8"
      },
      "source": [
        "**If statement**\n",
        "\n",
        "If the condition that follows the if keyword evaluates to true, the code block will be executed\n",
        "\n",
        "Example:\n",
        "\n",
        "    if True:\n",
        "     print ('If block will be executed!')\n",
        "    \n",
        "    \n",
        "    x = 5\n",
        "\n",
        "    if x> 4:\n",
        "     print (\"The condition was true!\") #This statement is executed"
      ]
    },
    {
      "cell_type": "markdown",
      "metadata": {
        "id": "cAfARE6JvNIi"
      },
      "source": [
        "**Else statement**\n",
        "\n",
        "An *else* response can be added that will be executed if the condition is *false*.\n",
        "\n",
        "Example:\n",
        "\n",
        "    if not True:\n",
        "      print ('The If statement will be executed!')\n",
        "    else:\n",
        "      print ('The Else statement will be executed!')"
      ]
    },
    {
      "cell_type": "markdown",
      "metadata": {
        "id": "PIyQW8mLwo-V"
      },
      "source": [
        "**Elif sentence**\n",
        "\n",
        "Multiple conditions can be checked by including one or more elif checks after your initial if statement. Taking into account that only one condition will be executed.\n",
        "\n",
        "Example:\n",
        "\n",
        "    z = 7\n",
        "\n",
        "    if z> 8:\n",
        "     print (\"I'm not going to print!\") #this statement is not executed\n",
        "    elif z> 5:\n",
        "     print (\"I'll do it!\") #this statement is executed\n",
        "    elif z> 6:\n",
        "      print (\"I'm not going to print either!\") #this statement is not executed\n",
        "    else:\n",
        "      print (\"Me neither!\") #this statement is not executed"
      ]
    },
    {
      "cell_type": "markdown",
      "metadata": {
        "id": "6riI_YqCxSib"
      },
      "source": [
        "**Nested if statements**\n",
        "\n",
        "It is also possible to create nested ifs for decision making.\n",
        "\n",
        "An example, to find a number that is even and also greater than 10\n",
        "\n",
        "    python\n",
        "    x = 34\n",
        "    if x% 2 == 0: # this is how you create a comment and now it checks even number.\n",
        "       if x> 10:\n",
        "          print (\"This number is even and is greater than 10\")\n",
        "       else:\n",
        "        print (\"This number is even, but not greater than 10\")\n",
        "    else:\n",
        "       print (\"The number is not even. So check point more.\")"
      ]
    },
    {
      "cell_type": "markdown",
      "metadata": {
        "id": "tnVVeKrSyHvf"
      },
      "source": [
        "**Python if-else statement inline**\n",
        "\n",
        "If-else statements can also be used in inline Python functions.\n",
        "\n",
        "In this example, it must be verified if the number is greater than or equal to 50, if so, it returns True:\n",
        "\n",
        "    python\n",
        "     x = 89\n",
        "     is_major = True if x> = 50 else False\n",
        "\n",
        "     print (is_major)\n",
        "Departure:\n",
        "\n",
        "    >\n",
        "    True\n",
        "    >"
      ]
    },
    {
      "cell_type": "markdown",
      "metadata": {
        "id": "PiaSuGJYysTE"
      },
      "source": [
        "### Bucle\n"
      ]
    },
    {
      "cell_type": "markdown",
      "metadata": {
        "id": "FSbyTP1lzUp-"
      },
      "source": [
        "The for loop is used to go through the elements of an iterable object (list, tuple, set, dictionary, ...) and execute a block of code. In each step of the iteration, a single element of the iterable object is taken into account, on which a series of operations can be applied.\n",
        "\n",
        "Its syntax is as follows:\n",
        "\n",
        "    for <elem> in <iterable>:\n",
        "        <Your code>\n",
        "Inside this, elem is the variable that takes the value of the element inside the iterator in each step of the loop. This ends its execution when all the elements are crossed."
      ]
    },
    {
      "cell_type": "markdown",
      "metadata": {
        "id": "s8SJnE4hzibg"
      },
      "source": [
        "##Bibliografhy"
      ]
    },
    {
      "cell_type": "markdown",
      "metadata": {
        "id": "aaiGiaHeztc_"
      },
      "source": [
        "https://www.tokioschool.com/noticias/historia-python/\n",
        "https://www.esic.edu/rethink/tecnologia/para-que-sirve-python\n",
        "https://www.capacitarte.org/blog/nota/que-es-y-para-que-sirve-python\n",
        "https://j2logo.com/python/tutorial/introduccion-a-python/\n",
        "https://programmerclick.com/article/87791917407/\n",
        "https://www.freecodecamp.org/espanol/news/sentencias-if-elif-y-else-en-python/\n",
        "https://j2logo.com/bucle-for-en-python/"
      ]
    }
  ]
}